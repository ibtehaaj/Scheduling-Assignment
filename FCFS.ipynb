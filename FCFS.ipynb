{
 "cells": [
  {
   "cell_type": "code",
   "execution_count": 1,
   "metadata": {},
   "outputs": [],
   "source": [
    "import numpy as np\n",
    "import pandas as pd"
   ]
  },
  {
   "cell_type": "code",
   "execution_count": 11,
   "metadata": {},
   "outputs": [
    {
     "name": "stderr",
     "output_type": "stream",
     "text": [
      "/home/ibtehaj/anaconda3/lib/python3.7/site-packages/ipykernel_launcher.py:19: SettingWithCopyWarning: \n",
      "A value is trying to be set on a copy of a slice from a DataFrame\n",
      "\n",
      "See the caveats in the documentation: http://pandas.pydata.org/pandas-docs/stable/indexing.html#indexing-view-versus-copy\n"
     ]
    }
   ],
   "source": [
    "data = {\n",
    "    'Processes': ['P1','P2','P3','P4','P5'],\n",
    "    'Arrival Time': np.array([0,1,2,3,4]),\n",
    "    'Burst Time': np.array([5,36,10,8,29]),\n",
    "    'Completion Time': np.ones(5,dtype=int),\n",
    "    'Turn Around Time':np.ones(5,dtype=int),\n",
    "    'Waiting Time':np.ones(5,dtype=int)\n",
    "}\n",
    "\n",
    "df = pd.DataFrame(data)\n",
    "\n",
    "\n",
    "# Calculating completion time\n",
    "\n",
    "add = 0\n",
    "c = 0\n",
    "for time in df['Burst Time']:\n",
    "    add += time\n",
    "    df['Completion Time'][c] = add\n",
    "    c+=1\n",
    "    \n",
    "df['Turn Around Time'] = df['Completion Time'] - df['Arrival Time']\n",
    "df['Waiting Time'] = df['Turn Around Time'] - df['Burst Time']"
   ]
  },
  {
   "cell_type": "code",
   "execution_count": 12,
   "metadata": {},
   "outputs": [
    {
     "data": {
      "text/html": [
       "<div>\n",
       "<style scoped>\n",
       "    .dataframe tbody tr th:only-of-type {\n",
       "        vertical-align: middle;\n",
       "    }\n",
       "\n",
       "    .dataframe tbody tr th {\n",
       "        vertical-align: top;\n",
       "    }\n",
       "\n",
       "    .dataframe thead th {\n",
       "        text-align: right;\n",
       "    }\n",
       "</style>\n",
       "<table border=\"1\" class=\"dataframe\">\n",
       "  <thead>\n",
       "    <tr style=\"text-align: right;\">\n",
       "      <th></th>\n",
       "      <th>Processes</th>\n",
       "      <th>Arrival Time</th>\n",
       "      <th>Burst Time</th>\n",
       "      <th>Completion Time</th>\n",
       "      <th>Turn Around Time</th>\n",
       "      <th>Waiting Time</th>\n",
       "    </tr>\n",
       "  </thead>\n",
       "  <tbody>\n",
       "    <tr>\n",
       "      <th>0</th>\n",
       "      <td>P1</td>\n",
       "      <td>0</td>\n",
       "      <td>5</td>\n",
       "      <td>5</td>\n",
       "      <td>5</td>\n",
       "      <td>0</td>\n",
       "    </tr>\n",
       "    <tr>\n",
       "      <th>1</th>\n",
       "      <td>P2</td>\n",
       "      <td>1</td>\n",
       "      <td>36</td>\n",
       "      <td>41</td>\n",
       "      <td>40</td>\n",
       "      <td>4</td>\n",
       "    </tr>\n",
       "    <tr>\n",
       "      <th>2</th>\n",
       "      <td>P3</td>\n",
       "      <td>2</td>\n",
       "      <td>10</td>\n",
       "      <td>51</td>\n",
       "      <td>49</td>\n",
       "      <td>39</td>\n",
       "    </tr>\n",
       "    <tr>\n",
       "      <th>3</th>\n",
       "      <td>P4</td>\n",
       "      <td>3</td>\n",
       "      <td>8</td>\n",
       "      <td>59</td>\n",
       "      <td>56</td>\n",
       "      <td>48</td>\n",
       "    </tr>\n",
       "    <tr>\n",
       "      <th>4</th>\n",
       "      <td>P5</td>\n",
       "      <td>4</td>\n",
       "      <td>29</td>\n",
       "      <td>88</td>\n",
       "      <td>84</td>\n",
       "      <td>55</td>\n",
       "    </tr>\n",
       "  </tbody>\n",
       "</table>\n",
       "</div>"
      ],
      "text/plain": [
       "  Processes  Arrival Time  Burst Time  Completion Time  Turn Around Time  \\\n",
       "0        P1             0           5                5                 5   \n",
       "1        P2             1          36               41                40   \n",
       "2        P3             2          10               51                49   \n",
       "3        P4             3           8               59                56   \n",
       "4        P5             4          29               88                84   \n",
       "\n",
       "   Waiting Time  \n",
       "0             0  \n",
       "1             4  \n",
       "2            39  \n",
       "3            48  \n",
       "4            55  "
      ]
     },
     "execution_count": 12,
     "metadata": {},
     "output_type": "execute_result"
    }
   ],
   "source": [
    "df"
   ]
  },
  {
   "cell_type": "code",
   "execution_count": 13,
   "metadata": {},
   "outputs": [
    {
     "data": {
      "text/html": [
       "<div>\n",
       "<style scoped>\n",
       "    .dataframe tbody tr th:only-of-type {\n",
       "        vertical-align: middle;\n",
       "    }\n",
       "\n",
       "    .dataframe tbody tr th {\n",
       "        vertical-align: top;\n",
       "    }\n",
       "\n",
       "    .dataframe thead th {\n",
       "        text-align: right;\n",
       "    }\n",
       "</style>\n",
       "<table border=\"1\" class=\"dataframe\">\n",
       "  <thead>\n",
       "    <tr style=\"text-align: right;\">\n",
       "      <th></th>\n",
       "      <th>Completion Time</th>\n",
       "      <th>Burst Time</th>\n",
       "    </tr>\n",
       "  </thead>\n",
       "  <tbody>\n",
       "    <tr>\n",
       "      <th>0</th>\n",
       "      <td>0</td>\n",
       "      <td>5</td>\n",
       "    </tr>\n",
       "    <tr>\n",
       "      <th>1</th>\n",
       "      <td>5</td>\n",
       "      <td>36</td>\n",
       "    </tr>\n",
       "    <tr>\n",
       "      <th>2</th>\n",
       "      <td>41</td>\n",
       "      <td>10</td>\n",
       "    </tr>\n",
       "    <tr>\n",
       "      <th>3</th>\n",
       "      <td>51</td>\n",
       "      <td>8</td>\n",
       "    </tr>\n",
       "    <tr>\n",
       "      <th>4</th>\n",
       "      <td>59</td>\n",
       "      <td>29</td>\n",
       "    </tr>\n",
       "  </tbody>\n",
       "</table>\n",
       "</div>"
      ],
      "text/plain": [
       "   Completion Time  Burst Time\n",
       "0                0           5\n",
       "1                5          36\n",
       "2               41          10\n",
       "3               51           8\n",
       "4               59          29"
      ]
     },
     "execution_count": 13,
     "metadata": {},
     "output_type": "execute_result"
    }
   ],
   "source": [
    "# manipulation of original dataframe for extracting tuples to be used in plotting chart\n",
    "\n",
    "gantt = pd.DataFrame(df[['Completion Time','Burst Time']])\n",
    "x = gantt['Completion Time']\n",
    "x.drop(x.tail(1).index,inplace=True) # drop last n rows\n",
    "x.index = x.index + 1  \n",
    "x = pd.concat([pd.Series([0]), x])\n",
    "gantt['Completion Time'] = x\n",
    "gantt"
   ]
  },
  {
   "cell_type": "code",
   "execution_count": 7,
   "metadata": {},
   "outputs": [
    {
     "data": {
      "text/plain": [
       "[(0, 5), (5, 36), (41, 10), (51, 8), (59, 29)]"
      ]
     },
     "execution_count": 7,
     "metadata": {},
     "output_type": "execute_result"
    }
   ],
   "source": [
    "# tuples for chart\n",
    "tups = gantt.apply(tuple, axis=1).tolist()\n",
    "tups\n"
   ]
  },
  {
   "cell_type": "code",
   "execution_count": 9,
   "metadata": {},
   "outputs": [
    {
     "data": {
      "image/png": "[encoded data removed]",
      "text/plain": [
       "<Figure size 432x288 with 1 Axes>"
      ]
     },
     "metadata": {
      "needs_background": "light"
     },
     "output_type": "display_data"
    }
   ],
   "source": [
    "# Importing the matplotlb.pyplot \n",
    "import matplotlib.pyplot as plt \n",
    "\n",
    "# Declaring a figure \"gnt\" \n",
    "fig, gnt = plt.subplots() \n",
    "\n",
    "# Setting Y-axis limits \n",
    "gnt.set_ylim(0, 30) \n",
    "\n",
    "# Setting X-axis limits \n",
    "gnt.set_xlim(0, 90) \n",
    "\n",
    "# Setting labels for x-axis and y-axis \n",
    "gnt.set_xlabel('Time') \n",
    "gnt.set_ylabel('Processes') \n",
    "\n",
    "# Setting ticks on y-axis \n",
    "gnt.set_yticks(np.arange(20,150,20)) \n",
    "# Labelling tickes of y-axis \n",
    "gnt.set_yticklabels(df['Processes'].tolist()) \n",
    "\n",
    "# Setting graph attribute \n",
    "gnt.grid(True) \n",
    "\n",
    "# gnt.broken_barh([l[0]], (15, 9), facecolors =('tab:red')) \n",
    "# gnt.broken_barh([l[1]], (35, 9), facecolors =('tab:blue')) \n",
    "# gnt.broken_barh([l[2]], (55, 9), facecolors =('tab:green')) \n",
    "# gnt.broken_barh([l[3]], (75, 9), facecolors =('tab:orange')) \n",
    "# gnt.broken_barh([l[4]], (95, 9), facecolors =('tab:purple'))\n",
    "\n",
    "gnt.broken_barh([tups[0]], (15, 9), facecolors =('tab:red')) \n",
    "gnt.broken_barh([tups[1]], (35, 9), facecolors =('tab:blue')) \n",
    "gnt.broken_barh([tups[2]], (55, 9), facecolors =('tab:green')) \n",
    "gnt.broken_barh([tups[3]], (75, 9), facecolors =('tab:orange')) \n",
    "gnt.broken_barh([tups[4]], (95, 9), facecolors =('tab:purple'))\n",
    "\n",
    "plt.savefig(\"gantt1.png\") \n"
   ]
  }
 ],
 "metadata": {
  "kernelspec": {
   "display_name": "Python 3",
   "language": "python",
   "name": "python3"
  },
  "language_info": {
   "codemirror_mode": {
    "name": "ipython",
    "version": 3
   },
   "file_extension": ".py",
   "mimetype": "text/x-python",
   "name": "python",
   "nbconvert_exporter": "python",
   "pygments_lexer": "ipython3",
   "version": "3.7.3"
  }
 },
 "nbformat": 4,
 "nbformat_minor": 2
}
