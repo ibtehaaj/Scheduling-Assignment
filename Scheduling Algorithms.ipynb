{
 "cells": [
  {
   "cell_type": "code",
   "execution_count": 1,
   "metadata": {},
   "outputs": [],
   "source": [
    "import numpy as np\n",
    "import pandas as pd\n",
    "import matplotlib.pyplot as plt "
   ]
  },
  {
   "cell_type": "code",
   "execution_count": 2,
   "metadata": {},
   "outputs": [],
   "source": [
    "# Calculating completion time\n",
    "\n",
    "def ct(df):\n",
    "    add = 0\n",
    "    c = 0\n",
    "    for time in df['Burst Time']:\n",
    "        add += time\n",
    "        df['Completion Time'][c] = add\n",
    "        c+=1\n",
    "\n",
    "    df['Turn Around Time'] = df['Completion Time'] - df['Arrival Time']\n",
    "    df['Waiting Time'] = df['Turn Around Time'] - df['Burst Time']\n",
    "    return df\n"
   ]
  },
  {
   "cell_type": "code",
   "execution_count": 3,
   "metadata": {},
   "outputs": [],
   "source": [
    "# manipulation of original dataframe for extracting tuples to be used in plotting chart\n",
    "def manipulate(df):\n",
    "    gantt = pd.DataFrame(df[['Completion Time','Burst Time']])\n",
    "    x = gantt['Completion Time']\n",
    "    x.drop(x.tail(1).index,inplace=True) # drop last n rows\n",
    "    x.index = x.index + 1  \n",
    "    x = pd.concat([pd.Series([0]), x])\n",
    "    gantt['Completion Time'] = x\n",
    "    return gantt\n",
    "\n",
    "\n"
   ]
  },
  {
   "cell_type": "code",
   "execution_count": 4,
   "metadata": {},
   "outputs": [],
   "source": [
    "def slice_tuples(gantt):\n",
    "    tups = gantt.apply(tuple, axis=1).tolist()\n",
    "    return tups"
   ]
  },
  {
   "cell_type": "code",
   "execution_count": 5,
   "metadata": {},
   "outputs": [],
   "source": [
    "# Importing the matplotlb.pyplot \n",
    "\n",
    "def chart(df,tups):\n",
    "    # Declaring a figure \"gnt\" \n",
    "    fig, gnt = plt.subplots() \n",
    "\n",
    "    # Setting Y-axis limits \n",
    "    gnt.set_ylim(0, 30) \n",
    "\n",
    "    # Setting X-axis limits \n",
    "    gnt.set_xlim(0, 90) \n",
    "\n",
    "    # Setting labels for x-axis and y-axis \n",
    "    gnt.set_xlabel('Time') \n",
    "    gnt.set_ylabel('Processes') \n",
    "\n",
    "    # Setting ticks on y-axis \n",
    "    gnt.set_yticks(np.arange(20,150,20)) \n",
    "    # Labelling tickes of y-axis \n",
    "    gnt.set_yticklabels(df['Processes'].tolist()) \n",
    "\n",
    "    gnt.grid(True) \n",
    "    # Setting graph attribute \n",
    "    c = 15\n",
    "    for x in range(len(tups)):\n",
    "        if x == 0:\n",
    "            gnt.broken_barh([tups[x]], (c, 10), facecolors =('tab:blue')) \n",
    "        elif x == 1:\n",
    "            gnt.broken_barh([tups[x]], (c, 10), facecolors =('tab:red'))\n",
    "        elif x == 2:\n",
    "            gnt.broken_barh([tups[x]], (c, 10), facecolors =('tab:orange'))\n",
    "        elif x == 3:\n",
    "            gnt.broken_barh([tups[x]], (c, 10), facecolors =('tab:green'))    \n",
    "        elif x == 4:\n",
    "            gnt.broken_barh([tups[x]], (c, 10), facecolors =('tab:purple'))\n",
    "        elif x == 5:\n",
    "            gnt.broken_barh([tups[x]], (c, 10), facecolors =('tab:pink'))\n",
    "        elif x == 6:\n",
    "            gnt.broken_barh([tups[x]], (c, 10), facecolors =('tab:white'))\n",
    "        elif x == 7:\n",
    "            gnt.broken_barh([tups[x]], (c, 10), facecolors =('tab:brown'))\n",
    "        c += 20\n",
    "\n",
    "#     gnt.broken_barh([tups[0]], (15, 9), facecolors =('tab:blue')) \n",
    "#     gnt.broken_barh([tups[1]], (35, 9), facecolors =('tab:blue')) \n",
    "#     gnt.broken_barh([tups[2]], (55, 9), facecolors =('tab:green')) \n",
    "#     gnt.broken_barh([tups[3]], (75, 9), facecolors =('tab:orange')) \n",
    "#     gnt.broken_barh([tups[4]], (95, 9), facecolors =('tab:purple'))\n",
    "    plt.legend( df['Processes'] )\n",
    "    plt.savefig(\"gantt1.png\") \n"
   ]
  },
  {
   "cell_type": "code",
   "execution_count": 23,
   "metadata": {},
   "outputs": [],
   "source": [
    "def fcfs(df):\n",
    "    df = ct(df)\n",
    "    df1 = manipulate(df)\n",
    "    tuples = slice_tuples(df1)\n",
    "    chart(df,tuples)\n",
    "    print(\"Average Waiting Time:\",df[\"Waiting Time\"].mean(),\"\\n\",\"Average Turn Around Time:\",df[\"Turn Around Time\"].mean())\n",
    "    return df"
   ]
  },
  {
   "cell_type": "code",
   "execution_count": 7,
   "metadata": {},
   "outputs": [],
   "source": [
    "def sjf(df):\n",
    "    df = df.sort_values(by=['Burst Time'], ascending=True)\n",
    "    df.index = np.arange(len(df['Processes']))\n",
    "    a = fcfs(df)\n",
    "    return a"
   ]
  },
  {
   "cell_type": "code",
   "execution_count": 18,
   "metadata": {},
   "outputs": [],
   "source": [
    "def details():\n",
    "    number_of_processes = int(input(\"Enter Number Of Processes:\"))\n",
    "    bt = []\n",
    "    for i in range(number_of_processes):\n",
    "        bt.append(int(input(\"Enter Burst Time:\")))\n",
    "\n",
    "    data = {\n",
    "        'Processes': np.arange(1,number_of_processes+1,1),\n",
    "        'Arrival Time': np.zeros(number_of_processes,dtype=int),\n",
    "        'Burst Time': np.array(bt),\n",
    "        'Completion Time': np.ones(number_of_processes,dtype=int),\n",
    "        'Turn Around Time':np.ones(number_of_processes,dtype=int),\n",
    "        'Waiting Time':np.ones(number_of_processes,dtype=int)\n",
    "    }\n",
    "    df = pd.DataFrame(data)\n",
    "    return df\n"
   ]
  },
  {
   "cell_type": "code",
   "execution_count": 17,
   "metadata": {},
   "outputs": [],
   "source": [
    "def details_edf():\n",
    "    number_of_processes = int(input(\"Enter Number Of Processes:\"))\n",
    "    bt = []\n",
    "    dl = []\n",
    "    for i in range(number_of_processes):\n",
    "        bt.append(int(input(\"Enter Burst Time:\")))\n",
    "        dl.append(int(input(\"Enter Deadline:\")))\n",
    "    data = {\n",
    "        'Processes': np.arange(1,number_of_processes+1,1),\n",
    "        'Arrival Time': np.zeros(number_of_processes,dtype=int),\n",
    "        'Burst Time': np.array(bt),\n",
    "        'Deadline': np.array(dl),\n",
    "        'Completion Time': np.ones(number_of_processes,dtype=int),\n",
    "        'Turn Around Time':np.ones(number_of_processes,dtype=int),\n",
    "        'Waiting Time':np.ones(number_of_processes,dtype=int)\n",
    "    }\n",
    "    df = pd.DataFrame(data)\n",
    "    return df\n"
   ]
  },
  {
   "cell_type": "code",
   "execution_count": 24,
   "metadata": {},
   "outputs": [
    {
     "name": "stdout",
     "output_type": "stream",
     "text": [
      "Enter Number Of Processes:3\n",
      "Enter Burst Time:10\n",
      "Enter Burst Time:30\n",
      "Enter Burst Time:20\n",
      "Average Waiting Time: 16.666666666666668 \n",
      " Average Turn Around Time: 36.666666666666664\n"
     ]
    },
    {
     "data": {
      "image/png": "[encoded data removed]",
      "text/plain": [
       "<Figure size 432x288 with 1 Axes>"
      ]
     },
     "metadata": {
      "needs_background": "light"
     },
     "output_type": "display_data"
    }
   ],
   "source": [
    "#fcfs\n",
    "df = details()\n",
    "a = fcfs(df)"
   ]
  },
  {
   "cell_type": "code",
   "execution_count": 25,
   "metadata": {},
   "outputs": [
    {
     "data": {
      "text/html": [
       "<div>\n",
       "<style scoped>\n",
       "    .dataframe tbody tr th:only-of-type {\n",
       "        vertical-align: middle;\n",
       "    }\n",
       "\n",
       "    .dataframe tbody tr th {\n",
       "        vertical-align: top;\n",
       "    }\n",
       "\n",
       "    .dataframe thead th {\n",
       "        text-align: right;\n",
       "    }\n",
       "</style>\n",
       "<table border=\"1\" class=\"dataframe\">\n",
       "  <thead>\n",
       "    <tr style=\"text-align: right;\">\n",
       "      <th></th>\n",
       "      <th>Processes</th>\n",
       "      <th>Arrival Time</th>\n",
       "      <th>Burst Time</th>\n",
       "      <th>Completion Time</th>\n",
       "      <th>Turn Around Time</th>\n",
       "      <th>Waiting Time</th>\n",
       "    </tr>\n",
       "  </thead>\n",
       "  <tbody>\n",
       "    <tr>\n",
       "      <th>0</th>\n",
       "      <td>1</td>\n",
       "      <td>0</td>\n",
       "      <td>10</td>\n",
       "      <td>10</td>\n",
       "      <td>10</td>\n",
       "      <td>0</td>\n",
       "    </tr>\n",
       "    <tr>\n",
       "      <th>1</th>\n",
       "      <td>2</td>\n",
       "      <td>0</td>\n",
       "      <td>30</td>\n",
       "      <td>40</td>\n",
       "      <td>40</td>\n",
       "      <td>10</td>\n",
       "    </tr>\n",
       "    <tr>\n",
       "      <th>2</th>\n",
       "      <td>3</td>\n",
       "      <td>0</td>\n",
       "      <td>20</td>\n",
       "      <td>60</td>\n",
       "      <td>60</td>\n",
       "      <td>40</td>\n",
       "    </tr>\n",
       "  </tbody>\n",
       "</table>\n",
       "</div>"
      ],
      "text/plain": [
       "   Processes  Arrival Time  Burst Time  Completion Time  Turn Around Time  \\\n",
       "0          1             0          10               10                10   \n",
       "1          2             0          30               40                40   \n",
       "2          3             0          20               60                60   \n",
       "\n",
       "   Waiting Time  \n",
       "0             0  \n",
       "1            10  \n",
       "2            40  "
      ]
     },
     "execution_count": 25,
     "metadata": {},
     "output_type": "execute_result"
    }
   ],
   "source": [
    "a"
   ]
  },
  {
   "cell_type": "code",
   "execution_count": 26,
   "metadata": {},
   "outputs": [
    {
     "name": "stdout",
     "output_type": "stream",
     "text": [
      "Enter Number Of Processes:3\n",
      "Enter Burst Time:15\n",
      "Enter Burst Time:5\n",
      "Enter Burst Time:25\n",
      "Average Waiting Time: 8.333333333333334 \n",
      " Average Turn Around Time: 23.333333333333332\n"
     ]
    },
    {
     "data": {
      "image/png": "[encoded data removed]",
      "text/plain": [
       "<Figure size 432x288 with 1 Axes>"
      ]
     },
     "metadata": {
      "needs_background": "light"
     },
     "output_type": "display_data"
    }
   ],
   "source": [
    "df = details()\n",
    "b = sjf(df)\n"
   ]
  },
  {
   "cell_type": "code",
   "execution_count": 27,
   "metadata": {},
   "outputs": [
    {
     "data": {
      "text/html": [
       "<div>\n",
       "<style scoped>\n",
       "    .dataframe tbody tr th:only-of-type {\n",
       "        vertical-align: middle;\n",
       "    }\n",
       "\n",
       "    .dataframe tbody tr th {\n",
       "        vertical-align: top;\n",
       "    }\n",
       "\n",
       "    .dataframe thead th {\n",
       "        text-align: right;\n",
       "    }\n",
       "</style>\n",
       "<table border=\"1\" class=\"dataframe\">\n",
       "  <thead>\n",
       "    <tr style=\"text-align: right;\">\n",
       "      <th></th>\n",
       "      <th>Processes</th>\n",
       "      <th>Arrival Time</th>\n",
       "      <th>Burst Time</th>\n",
       "      <th>Completion Time</th>\n",
       "      <th>Turn Around Time</th>\n",
       "      <th>Waiting Time</th>\n",
       "    </tr>\n",
       "  </thead>\n",
       "  <tbody>\n",
       "    <tr>\n",
       "      <th>0</th>\n",
       "      <td>2</td>\n",
       "      <td>0</td>\n",
       "      <td>5</td>\n",
       "      <td>5</td>\n",
       "      <td>5</td>\n",
       "      <td>0</td>\n",
       "    </tr>\n",
       "    <tr>\n",
       "      <th>1</th>\n",
       "      <td>1</td>\n",
       "      <td>0</td>\n",
       "      <td>15</td>\n",
       "      <td>20</td>\n",
       "      <td>20</td>\n",
       "      <td>5</td>\n",
       "    </tr>\n",
       "    <tr>\n",
       "      <th>2</th>\n",
       "      <td>3</td>\n",
       "      <td>0</td>\n",
       "      <td>25</td>\n",
       "      <td>45</td>\n",
       "      <td>45</td>\n",
       "      <td>20</td>\n",
       "    </tr>\n",
       "  </tbody>\n",
       "</table>\n",
       "</div>"
      ],
      "text/plain": [
       "   Processes  Arrival Time  Burst Time  Completion Time  Turn Around Time  \\\n",
       "0          2             0           5                5                 5   \n",
       "1          1             0          15               20                20   \n",
       "2          3             0          25               45                45   \n",
       "\n",
       "   Waiting Time  \n",
       "0             0  \n",
       "1             5  \n",
       "2            20  "
      ]
     },
     "execution_count": 27,
     "metadata": {},
     "output_type": "execute_result"
    }
   ],
   "source": [
    "b"
   ]
  },
  {
   "cell_type": "code",
   "execution_count": 28,
   "metadata": {},
   "outputs": [],
   "source": [
    "def edf(df):\n",
    "    df = df.sort_values(by=['Deadline'], ascending=True)\n",
    "    df.index = np.arange(len(df['Processes']))\n",
    "    a = fcfs(df)\n",
    "    return a"
   ]
  },
  {
   "cell_type": "code",
   "execution_count": 29,
   "metadata": {},
   "outputs": [
    {
     "name": "stdout",
     "output_type": "stream",
     "text": [
      "Enter Number Of Processes:3\n",
      "Enter Burst Time:12\n",
      "Enter Deadline:2\n",
      "Enter Burst Time:30\n",
      "Enter Deadline:1\n",
      "Enter Burst Time:105\n",
      "Enter Deadline:3\n",
      "Average Waiting Time: 24.0 \n",
      " Average Turn Around Time: 73.0\n"
     ]
    },
    {
     "data": {
      "image/png": "[encoded data removed]",
      "text/plain": [
       "<Figure size 432x288 with 1 Axes>"
      ]
     },
     "metadata": {
      "needs_background": "light"
     },
     "output_type": "display_data"
    }
   ],
   "source": [
    "df = details_edf()\n",
    "c = edf(df)"
   ]
  },
  {
   "cell_type": "code",
   "execution_count": 30,
   "metadata": {},
   "outputs": [
    {
     "data": {
      "text/html": [
       "<div>\n",
       "<style scoped>\n",
       "    .dataframe tbody tr th:only-of-type {\n",
       "        vertical-align: middle;\n",
       "    }\n",
       "\n",
       "    .dataframe tbody tr th {\n",
       "        vertical-align: top;\n",
       "    }\n",
       "\n",
       "    .dataframe thead th {\n",
       "        text-align: right;\n",
       "    }\n",
       "</style>\n",
       "<table border=\"1\" class=\"dataframe\">\n",
       "  <thead>\n",
       "    <tr style=\"text-align: right;\">\n",
       "      <th></th>\n",
       "      <th>Processes</th>\n",
       "      <th>Arrival Time</th>\n",
       "      <th>Burst Time</th>\n",
       "      <th>Deadline</th>\n",
       "      <th>Completion Time</th>\n",
       "      <th>Turn Around Time</th>\n",
       "      <th>Waiting Time</th>\n",
       "    </tr>\n",
       "  </thead>\n",
       "  <tbody>\n",
       "    <tr>\n",
       "      <th>0</th>\n",
       "      <td>2</td>\n",
       "      <td>0</td>\n",
       "      <td>30</td>\n",
       "      <td>1</td>\n",
       "      <td>30</td>\n",
       "      <td>30</td>\n",
       "      <td>0</td>\n",
       "    </tr>\n",
       "    <tr>\n",
       "      <th>1</th>\n",
       "      <td>1</td>\n",
       "      <td>0</td>\n",
       "      <td>12</td>\n",
       "      <td>2</td>\n",
       "      <td>42</td>\n",
       "      <td>42</td>\n",
       "      <td>30</td>\n",
       "    </tr>\n",
       "    <tr>\n",
       "      <th>2</th>\n",
       "      <td>3</td>\n",
       "      <td>0</td>\n",
       "      <td>105</td>\n",
       "      <td>3</td>\n",
       "      <td>147</td>\n",
       "      <td>147</td>\n",
       "      <td>42</td>\n",
       "    </tr>\n",
       "  </tbody>\n",
       "</table>\n",
       "</div>"
      ],
      "text/plain": [
       "   Processes  Arrival Time  Burst Time  Deadline  Completion Time  \\\n",
       "0          2             0          30         1               30   \n",
       "1          1             0          12         2               42   \n",
       "2          3             0         105         3              147   \n",
       "\n",
       "   Turn Around Time  Waiting Time  \n",
       "0                30             0  \n",
       "1                42            30  \n",
       "2               147            42  "
      ]
     },
     "execution_count": 30,
     "metadata": {},
     "output_type": "execute_result"
    }
   ],
   "source": [
    "c"
   ]
  }
 ],
 "metadata": {
  "kernelspec": {
   "display_name": "Python 3",
   "language": "python",
   "name": "python3"
  },
  "language_info": {
   "codemirror_mode": {
    "name": "ipython",
    "version": 3
   },
   "file_extension": ".py",
   "mimetype": "text/x-python",
   "name": "python",
   "nbconvert_exporter": "python",
   "pygments_lexer": "ipython3",
   "version": "3.7.3"
  }
 },
 "nbformat": 4,
 "nbformat_minor": 2
}
